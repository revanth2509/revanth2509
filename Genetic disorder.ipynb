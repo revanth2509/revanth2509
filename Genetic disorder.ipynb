{
 "cells": [
  {
   "cell_type": "code",
   "execution_count": 1,
   "source": [
    "import pandas as pd\r\n",
    "import numpy as np"
   ],
   "outputs": [],
   "metadata": {}
  },
  {
   "cell_type": "code",
   "execution_count": 9,
   "source": [
    "df = pd.read_csv(\"train.csv\")\r\n",
    "df.head()\r\n",
    "df.columns"
   ],
   "outputs": [
    {
     "output_type": "execute_result",
     "data": {
      "text/plain": [
       "Index(['Patient Id', 'Patient Age', 'Genes in mother's side',\n",
       "       'Inherited from father', 'Maternal gene', 'Paternal gene',\n",
       "       'Blood cell count (mcL)', 'Patient First Name', 'Family Name',\n",
       "       'Father's name', 'Mother's age', 'Father's age', 'Institute Name',\n",
       "       'Location of Institute', 'Status', 'Respiratory Rate (breaths/min)',\n",
       "       'Heart Rate (rates/min', 'Test 1', 'Test 2', 'Test 3', 'Test 4',\n",
       "       'Test 5', 'Parental consent', 'Follow-up', 'Gender', 'Birth asphyxia',\n",
       "       'Autopsy shows birth defect (if applicable)', 'Place of birth',\n",
       "       'Folic acid details (peri-conceptional)',\n",
       "       'H/O serious maternal illness', 'H/O radiation exposure (x-ray)',\n",
       "       'H/O substance abuse', 'Assisted conception IVF/ART',\n",
       "       'History of anomalies in previous pregnancies',\n",
       "       'No. of previous abortion', 'Birth defects',\n",
       "       'White Blood cell count (thousand per microliter)', 'Blood test result',\n",
       "       'Symptom 1', 'Symptom 2', 'Symptom 3', 'Symptom 4', 'Symptom 5',\n",
       "       'Genetic Disorder', 'Disorder Subclass'],\n",
       "      dtype='object')"
      ]
     },
     "metadata": {},
     "execution_count": 9
    }
   ],
   "metadata": {}
  },
  {
   "cell_type": "code",
   "execution_count": 11,
   "source": [
    "df[\"Genes in mother's side\"].replace({'Yes':1,'No':0},inplace=True)\r\n",
    "df[\"Inherited from father\"].replace({'Yes':1,'No':0},inplace=True)\r\n",
    "df[\"Maternal gene\"].replace({'Yes':1,'No':0},inplace=True)\r\n",
    "df[\"Paternal gene\"].replace({'Yes':1,'No':0},inplace=True)\r\n",
    "df[\"Folic acid details (peri-conceptional)\"].replace({'Yes':1,'No':0},inplace=True)\r\n",
    "df[\"Parental consent\"].replace({'Yes':1,'No':0},inplace=True)\r\n"
   ],
   "outputs": [],
   "metadata": {}
  },
  {
   "cell_type": "code",
   "execution_count": 12,
   "source": [
    "df.head()"
   ],
   "outputs": [
    {
     "output_type": "execute_result",
     "data": {
      "text/plain": [
       "  Patient Id  Patient Age  Genes in mother's side  Inherited from father  \\\n",
       "0  PID0x6418          2.0                       1                    0.0   \n",
       "1  PID0x25d5          4.0                       1                    1.0   \n",
       "2  PID0x4a82          6.0                       1                    0.0   \n",
       "3  PID0x4ac8         12.0                       1                    0.0   \n",
       "4  PID0x1bf7         11.0                       1                    0.0   \n",
       "\n",
       "   Maternal gene  Paternal gene  Blood cell count (mcL) Patient First Name  \\\n",
       "0            1.0              0                4.760603            Richard   \n",
       "1            0.0              0                4.910669               Mike   \n",
       "2            0.0              0                4.893297           Kimberly   \n",
       "3            1.0              0                4.705280            Jeffery   \n",
       "4            NaN              1                4.720703            Johanna   \n",
       "\n",
       "  Family Name Father's name  ...  Birth defects  \\\n",
       "0         NaN         Larre  ...            NaN   \n",
       "1         NaN        Brycen  ...       Multiple   \n",
       "2         NaN        Nashon  ...       Singular   \n",
       "3   Hoelscher        Aayaan  ...       Singular   \n",
       "4    Stutzman         Suave  ...       Multiple   \n",
       "\n",
       "   White Blood cell count (thousand per microliter) Blood test result  \\\n",
       "0                                          9.857562               NaN   \n",
       "1                                          5.522560            normal   \n",
       "2                                               NaN            normal   \n",
       "3                                          7.919321      inconclusive   \n",
       "4                                          4.098210               NaN   \n",
       "\n",
       "  Symptom 1 Symptom 2 Symptom 3 Symptom 4  Symptom 5  \\\n",
       "0       1.0       1.0       1.0       1.0        1.0   \n",
       "1       1.0       NaN       1.0       1.0        0.0   \n",
       "2       0.0       1.0       1.0       1.0        1.0   \n",
       "3       0.0       0.0       1.0       0.0        0.0   \n",
       "4       0.0       0.0       0.0       0.0        NaN   \n",
       "\n",
       "                               Genetic Disorder  \\\n",
       "0   Mitochondrial genetic inheritance disorders   \n",
       "1                                           NaN   \n",
       "2  Multifactorial genetic inheritance disorders   \n",
       "3   Mitochondrial genetic inheritance disorders   \n",
       "4  Multifactorial genetic inheritance disorders   \n",
       "\n",
       "                     Disorder Subclass  \n",
       "0  Leber's hereditary optic neuropathy  \n",
       "1                      Cystic fibrosis  \n",
       "2                             Diabetes  \n",
       "3                       Leigh syndrome  \n",
       "4                               Cancer  \n",
       "\n",
       "[5 rows x 45 columns]"
      ],
      "text/html": [
       "<div>\n",
       "<style scoped>\n",
       "    .dataframe tbody tr th:only-of-type {\n",
       "        vertical-align: middle;\n",
       "    }\n",
       "\n",
       "    .dataframe tbody tr th {\n",
       "        vertical-align: top;\n",
       "    }\n",
       "\n",
       "    .dataframe thead th {\n",
       "        text-align: right;\n",
       "    }\n",
       "</style>\n",
       "<table border=\"1\" class=\"dataframe\">\n",
       "  <thead>\n",
       "    <tr style=\"text-align: right;\">\n",
       "      <th></th>\n",
       "      <th>Patient Id</th>\n",
       "      <th>Patient Age</th>\n",
       "      <th>Genes in mother's side</th>\n",
       "      <th>Inherited from father</th>\n",
       "      <th>Maternal gene</th>\n",
       "      <th>Paternal gene</th>\n",
       "      <th>Blood cell count (mcL)</th>\n",
       "      <th>Patient First Name</th>\n",
       "      <th>Family Name</th>\n",
       "      <th>Father's name</th>\n",
       "      <th>...</th>\n",
       "      <th>Birth defects</th>\n",
       "      <th>White Blood cell count (thousand per microliter)</th>\n",
       "      <th>Blood test result</th>\n",
       "      <th>Symptom 1</th>\n",
       "      <th>Symptom 2</th>\n",
       "      <th>Symptom 3</th>\n",
       "      <th>Symptom 4</th>\n",
       "      <th>Symptom 5</th>\n",
       "      <th>Genetic Disorder</th>\n",
       "      <th>Disorder Subclass</th>\n",
       "    </tr>\n",
       "  </thead>\n",
       "  <tbody>\n",
       "    <tr>\n",
       "      <th>0</th>\n",
       "      <td>PID0x6418</td>\n",
       "      <td>2.0</td>\n",
       "      <td>1</td>\n",
       "      <td>0.0</td>\n",
       "      <td>1.0</td>\n",
       "      <td>0</td>\n",
       "      <td>4.760603</td>\n",
       "      <td>Richard</td>\n",
       "      <td>NaN</td>\n",
       "      <td>Larre</td>\n",
       "      <td>...</td>\n",
       "      <td>NaN</td>\n",
       "      <td>9.857562</td>\n",
       "      <td>NaN</td>\n",
       "      <td>1.0</td>\n",
       "      <td>1.0</td>\n",
       "      <td>1.0</td>\n",
       "      <td>1.0</td>\n",
       "      <td>1.0</td>\n",
       "      <td>Mitochondrial genetic inheritance disorders</td>\n",
       "      <td>Leber's hereditary optic neuropathy</td>\n",
       "    </tr>\n",
       "    <tr>\n",
       "      <th>1</th>\n",
       "      <td>PID0x25d5</td>\n",
       "      <td>4.0</td>\n",
       "      <td>1</td>\n",
       "      <td>1.0</td>\n",
       "      <td>0.0</td>\n",
       "      <td>0</td>\n",
       "      <td>4.910669</td>\n",
       "      <td>Mike</td>\n",
       "      <td>NaN</td>\n",
       "      <td>Brycen</td>\n",
       "      <td>...</td>\n",
       "      <td>Multiple</td>\n",
       "      <td>5.522560</td>\n",
       "      <td>normal</td>\n",
       "      <td>1.0</td>\n",
       "      <td>NaN</td>\n",
       "      <td>1.0</td>\n",
       "      <td>1.0</td>\n",
       "      <td>0.0</td>\n",
       "      <td>NaN</td>\n",
       "      <td>Cystic fibrosis</td>\n",
       "    </tr>\n",
       "    <tr>\n",
       "      <th>2</th>\n",
       "      <td>PID0x4a82</td>\n",
       "      <td>6.0</td>\n",
       "      <td>1</td>\n",
       "      <td>0.0</td>\n",
       "      <td>0.0</td>\n",
       "      <td>0</td>\n",
       "      <td>4.893297</td>\n",
       "      <td>Kimberly</td>\n",
       "      <td>NaN</td>\n",
       "      <td>Nashon</td>\n",
       "      <td>...</td>\n",
       "      <td>Singular</td>\n",
       "      <td>NaN</td>\n",
       "      <td>normal</td>\n",
       "      <td>0.0</td>\n",
       "      <td>1.0</td>\n",
       "      <td>1.0</td>\n",
       "      <td>1.0</td>\n",
       "      <td>1.0</td>\n",
       "      <td>Multifactorial genetic inheritance disorders</td>\n",
       "      <td>Diabetes</td>\n",
       "    </tr>\n",
       "    <tr>\n",
       "      <th>3</th>\n",
       "      <td>PID0x4ac8</td>\n",
       "      <td>12.0</td>\n",
       "      <td>1</td>\n",
       "      <td>0.0</td>\n",
       "      <td>1.0</td>\n",
       "      <td>0</td>\n",
       "      <td>4.705280</td>\n",
       "      <td>Jeffery</td>\n",
       "      <td>Hoelscher</td>\n",
       "      <td>Aayaan</td>\n",
       "      <td>...</td>\n",
       "      <td>Singular</td>\n",
       "      <td>7.919321</td>\n",
       "      <td>inconclusive</td>\n",
       "      <td>0.0</td>\n",
       "      <td>0.0</td>\n",
       "      <td>1.0</td>\n",
       "      <td>0.0</td>\n",
       "      <td>0.0</td>\n",
       "      <td>Mitochondrial genetic inheritance disorders</td>\n",
       "      <td>Leigh syndrome</td>\n",
       "    </tr>\n",
       "    <tr>\n",
       "      <th>4</th>\n",
       "      <td>PID0x1bf7</td>\n",
       "      <td>11.0</td>\n",
       "      <td>1</td>\n",
       "      <td>0.0</td>\n",
       "      <td>NaN</td>\n",
       "      <td>1</td>\n",
       "      <td>4.720703</td>\n",
       "      <td>Johanna</td>\n",
       "      <td>Stutzman</td>\n",
       "      <td>Suave</td>\n",
       "      <td>...</td>\n",
       "      <td>Multiple</td>\n",
       "      <td>4.098210</td>\n",
       "      <td>NaN</td>\n",
       "      <td>0.0</td>\n",
       "      <td>0.0</td>\n",
       "      <td>0.0</td>\n",
       "      <td>0.0</td>\n",
       "      <td>NaN</td>\n",
       "      <td>Multifactorial genetic inheritance disorders</td>\n",
       "      <td>Cancer</td>\n",
       "    </tr>\n",
       "  </tbody>\n",
       "</table>\n",
       "<p>5 rows × 45 columns</p>\n",
       "</div>"
      ]
     },
     "metadata": {},
     "execution_count": 12
    }
   ],
   "metadata": {}
  },
  {
   "cell_type": "code",
   "execution_count": 22,
   "source": [
    "df.drop(\"Place of birth\",inplace=True,axis='columns')"
   ],
   "outputs": [],
   "metadata": {}
  },
  {
   "cell_type": "code",
   "execution_count": 23,
   "source": [
    "df.shape"
   ],
   "outputs": [
    {
     "output_type": "execute_result",
     "data": {
      "text/plain": [
       "(22083, 37)"
      ]
     },
     "metadata": {},
     "execution_count": 23
    }
   ],
   "metadata": {}
  },
  {
   "cell_type": "code",
   "execution_count": 24,
   "source": [
    "df.columns"
   ],
   "outputs": [
    {
     "output_type": "execute_result",
     "data": {
      "text/plain": [
       "Index(['Patient Id', 'Patient Age', 'Genes in mother's side',\n",
       "       'Inherited from father', 'Maternal gene', 'Paternal gene',\n",
       "       'Blood cell count (mcL)', 'Status', 'Respiratory Rate (breaths/min)',\n",
       "       'Heart Rate (rates/min', 'Test 1', 'Test 2', 'Test 3', 'Test 4',\n",
       "       'Test 5', 'Parental consent', 'Follow-up', 'Gender', 'Birth asphyxia',\n",
       "       'Autopsy shows birth defect (if applicable)',\n",
       "       'Folic acid details (peri-conceptional)',\n",
       "       'H/O serious maternal illness', 'H/O radiation exposure (x-ray)',\n",
       "       'H/O substance abuse', 'Assisted conception IVF/ART',\n",
       "       'History of anomalies in previous pregnancies',\n",
       "       'No. of previous abortion', 'Birth defects',\n",
       "       'White Blood cell count (thousand per microliter)', 'Blood test result',\n",
       "       'Symptom 1', 'Symptom 2', 'Symptom 3', 'Symptom 4', 'Symptom 5',\n",
       "       'Genetic Disorder', 'Disorder Subclass'],\n",
       "      dtype='object')"
      ]
     },
     "metadata": {},
     "execution_count": 24
    }
   ],
   "metadata": {}
  },
  {
   "cell_type": "code",
   "execution_count": null,
   "source": [
    "df[\"\"].replace({'Yes':1,'No':0},inplace=True)"
   ],
   "outputs": [],
   "metadata": {}
  }
 ],
 "metadata": {
  "orig_nbformat": 4,
  "language_info": {
   "name": "python",
   "version": "3.8.5",
   "mimetype": "text/x-python",
   "codemirror_mode": {
    "name": "ipython",
    "version": 3
   },
   "pygments_lexer": "ipython3",
   "nbconvert_exporter": "python",
   "file_extension": ".py"
  },
  "kernelspec": {
   "name": "python3",
   "display_name": "Python 3.8.5 64-bit ('base': conda)"
  },
  "interpreter": {
   "hash": "1e915f0a29dc84041eaeb02b7b1a21c440e37a87b61d44d5e84a515737dc82bc"
  }
 },
 "nbformat": 4,
 "nbformat_minor": 2
}